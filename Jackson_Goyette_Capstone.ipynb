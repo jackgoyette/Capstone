{
 "cells": [
  {
   "cell_type": "code",
   "execution_count": 1,
   "id": "60305fa6-ba50-4411-9526-7732bb5ade6a",
   "metadata": {},
   "outputs": [],
   "source": [
    "import pandas as pd\n",
    "import numpy as np\n",
    "import matplotlib.pyplot as plt\n",
    "import scipy.stats as stats\n",
    "import seaborn as sns\n",
    "import statsmodels.stats.power as pwr\n",
    "import math as ma"
   ]
  },
  {
   "cell_type": "code",
   "execution_count": 2,
   "id": "ac4f04d5-a84c-46d0-9c9f-c3d5241d8872",
   "metadata": {},
   "outputs": [
    {
     "name": "stdout",
     "output_type": "stream",
     "text": [
      "(1999625, 26)\n",
      "(1999625, 26)\n",
      "Index(['username', 'rank', 'total', 'attack', 'defence', 'strength',\n",
      "       'hitpoints', 'ranged', 'prayer', 'magic', 'cooking', 'woodcutting',\n",
      "       'fletching', 'fishing', 'firemaking', 'crafting', 'smithing', 'mining',\n",
      "       'herblore', 'agility', 'thieving', 'slayer', 'farming', 'runecraft',\n",
      "       'hunter', 'construction'],\n",
      "      dtype='object')\n"
     ]
    }
   ],
   "source": [
    "# importing and cleaning our data\n",
    "\n",
    "osrs_data = pd.read_csv(\"player-stats.csv\")\n",
    "print(osrs_data.shape)\n",
    "\n",
    "# nix empty rows\n",
    "\n",
    "osrs_data = osrs_data.dropna(axis = 0, how = \"all\")\n",
    "\n",
    "# replace \"nan\" values with minimum level\n",
    "# hitpoints starts at level 10\n",
    "osrs_data[\"hitpoints\"] = osrs_data[\"hitpoints\"].fillna(10)\n",
    "# other skills start at 1\n",
    "osrs_data = osrs_data.fillna(1)\n",
    "\n",
    "# check shape again\n",
    "\n",
    "print(osrs_data.shape)\n",
    "\n",
    "# printing summary for reference\n",
    "\n",
    "print(osrs_data.columns)\n",
    "\n",
    "# explort to csv\n",
    "\n",
    "osrs_data.to_csv(\"cleaned_osrs_data.csv\")"
   ]
  },
  {
   "cell_type": "code",
   "execution_count": 3,
   "id": "87856eaa-5774-4e95-9b81-d29350934653",
   "metadata": {},
   "outputs": [
    {
     "name": "stdout",
     "output_type": "stream",
     "text": [
      "Number of skillers:  248703\n",
      "Number of pvmers:  532595\n"
     ]
    }
   ],
   "source": [
    "# if a user has a 99 in a \"skilling\" skill, assign them skiller\n",
    "\n",
    "skiller = osrs_data[((osrs_data[\"cooking\"] == 99) | \n",
    "            (osrs_data[\"woodcutting\"] == 99) |\n",
    "            (osrs_data[\"fletching\"] == 99) |\n",
    "            (osrs_data[\"fishing\"] == 99) |            \n",
    "            (osrs_data[\"firemaking\"] == 99) |\n",
    "            (osrs_data[\"crafting\"] == 99) |\n",
    "            (osrs_data[\"smithing\"] == 99) |\n",
    "            (osrs_data[\"mining\"] == 99) |\n",
    "            (osrs_data[\"herblore\"] == 99) |\n",
    "            (osrs_data[\"agility\"] == 99) |\n",
    "            (osrs_data[\"thieving\"] == 99) |\n",
    "            (osrs_data[\"farming\"] == 99) |\n",
    "            (osrs_data[\"runecraft\"] == 99) |\n",
    "            (osrs_data[\"hunter\"] == 99) |\n",
    "            (osrs_data[\"construction\"] == 99)) &\n",
    "            ~((osrs_data[\"attack\"] == 99) | \n",
    "            (osrs_data[\"defence\"] == 99) | \n",
    "            (osrs_data[\"strength\"] == 99) | \n",
    "            (osrs_data[\"hitpoints\"] == 99) | \n",
    "            (osrs_data[\"ranged\"] == 99) | \n",
    "            (osrs_data[\"magic\"] == 99))]\n",
    "            \n",
    "# if they have 99s in a combat skill, assign them pvmer\n",
    "\n",
    "pvmer = osrs_data[(osrs_data[\"attack\"] == 99) | \n",
    "        (osrs_data[\"defence\"] == 99) | \n",
    "        (osrs_data[\"strength\"] == 99) | \n",
    "        (osrs_data[\"hitpoints\"] == 99) | \n",
    "        (osrs_data[\"ranged\"] == 99) |\n",
    "        (osrs_data[\"magic\"] == 99)]\n",
    "\n",
    "print(\"Number of skillers: \", len(skiller))\n",
    "print(\"Number of pvmers: \", len(pvmer))\n",
    "\n",
    "skiller.to_csv(\"cleaned_osrs_skillers.csv\")\n",
    "pvmer.to_csv(\"cleaned_osrs_PvMers.csv\")"
   ]
  },
  {
   "cell_type": "code",
   "execution_count": 4,
   "id": "d99401e9-57f6-4d7f-9b9a-45ff501fc841",
   "metadata": {},
   "outputs": [
    {
     "name": "stdout",
     "output_type": "stream",
     "text": [
      "Cohen's d: \n",
      "0.9269706425705225\n"
     ]
    }
   ],
   "source": [
    "# calculate Cohen's d\n",
    "diff = pvmer.total.mean() - skiller.total.mean()\n",
    "pooledstdev = ma.sqrt((pvmer.total.std()**2 + skiller.total.std()**2)/2)\n",
    "cohend = diff / pooledstdev\n",
    "print(\"Cohen's d: \")\n",
    "print(cohend)"
   ]
  },
  {
   "cell_type": "code",
   "execution_count": 5,
   "id": "275c549a-5cd0-4c4f-af29-64594bb6eb1b",
   "metadata": {},
   "outputs": [
    {
     "name": "stdout",
     "output_type": "stream",
     "text": [
      "T test results:\n",
      "Ttest_indResult(statistic=381.96033871700257, pvalue=0.0)\n"
     ]
    }
   ],
   "source": [
    "# code used from Luke Hayden's \"Performing Experiments in Python\" DataCamp course:\n",
    "# https://app.datacamp.com/learn/courses/experimental-design-in-python\n",
    "\n",
    "# perform the t test\n",
    "t_result = stats.ttest_ind(pvmer.total, skiller.total)\n",
    "print(\"T test results:\")\n",
    "print(t_result)"
   ]
  },
  {
   "cell_type": "code",
   "execution_count": null,
   "id": "057bda87-3ff8-436d-b4f9-688202e129db",
   "metadata": {},
   "outputs": [],
   "source": []
  }
 ],
 "metadata": {
  "kernelspec": {
   "display_name": "base",
   "language": "python",
   "name": "python3"
  },
  "language_info": {
   "codemirror_mode": {
    "name": "ipython",
    "version": 3
   },
   "file_extension": ".py",
   "mimetype": "text/x-python",
   "name": "python",
   "nbconvert_exporter": "python",
   "pygments_lexer": "ipython3",
   "version": "3.10.9"
  }
 },
 "nbformat": 4,
 "nbformat_minor": 5
}
